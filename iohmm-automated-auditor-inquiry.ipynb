{
 "cells": [
  {
   "cell_type": "code",
   "execution_count": 1,
   "metadata": {},
   "outputs": [],
   "source": [
    "from __future__ import division\n",
    "import json\n",
    "import warnings\n",
    "import numpy as np\n",
    "import pandas as pd\n",
    "from IOHMM import UnSupervisedIOHMM\n",
    "from IOHMM import OLS, DiscreteMNL, CrossEntropyMNL\n",
    "warnings.simplefilter(\"ignore\")"
   ]
  },
  {
   "cell_type": "code",
   "execution_count": 2,
   "metadata": {},
   "outputs": [
    {
     "name": "stdout",
     "output_type": "stream",
     "text": [
      "(402, 16)\n"
     ]
    },
    {
     "data": {
      "text/html": [
       "<div>\n",
       "<style scoped>\n",
       "    .dataframe tbody tr th:only-of-type {\n",
       "        vertical-align: middle;\n",
       "    }\n",
       "\n",
       "    .dataframe tbody tr th {\n",
       "        vertical-align: top;\n",
       "    }\n",
       "\n",
       "    .dataframe thead th {\n",
       "        text-align: right;\n",
       "    }\n",
       "</style>\n",
       "<table border=\"1\" class=\"dataframe\">\n",
       "  <thead>\n",
       "    <tr style=\"text-align: right;\">\n",
       "      <th></th>\n",
       "      <th>Unnamed: 0</th>\n",
       "      <th>dyad#</th>\n",
       "      <th>GOAL</th>\n",
       "      <th>A_Evasive</th>\n",
       "      <th>Forthcoming</th>\n",
       "      <th>Who Initiated?</th>\n",
       "      <th>Auditor Gender Attachment</th>\n",
       "      <th>Client Gendor Attachment</th>\n",
       "      <th>Client Obs opinion</th>\n",
       "      <th>Round</th>\n",
       "      <th>Auditor Inquiry</th>\n",
       "      <th>Client Response</th>\n",
       "      <th>Unnamed: 12</th>\n",
       "      <th>Unnamed: 13</th>\n",
       "      <th>Unnamed: 14</th>\n",
       "      <th>Unnamed: 15</th>\n",
       "    </tr>\n",
       "  </thead>\n",
       "  <tbody>\n",
       "    <tr>\n",
       "      <th>0</th>\n",
       "      <td>NaN</td>\n",
       "      <td>56.0</td>\n",
       "      <td>1.0</td>\n",
       "      <td>4.0</td>\n",
       "      <td>4.0</td>\n",
       "      <td>AID</td>\n",
       "      <td>ANA</td>\n",
       "      <td>CAN</td>\n",
       "      <td>NO</td>\n",
       "      <td>1.0</td>\n",
       "      <td>I5</td>\n",
       "      <td>NaN</td>\n",
       "      <td>NaN</td>\n",
       "      <td>NaN</td>\n",
       "      <td>NaN</td>\n",
       "      <td>NaN</td>\n",
       "    </tr>\n",
       "  </tbody>\n",
       "</table>\n",
       "</div>"
      ],
      "text/plain": [
       "   Unnamed: 0  dyad#  GOAL  A_Evasive  Forthcoming Who Initiated?  \\\n",
       "0         NaN   56.0   1.0        4.0          4.0            AID   \n",
       "\n",
       "  Auditor Gender Attachment Client Gendor Attachment Client Obs opinion  \\\n",
       "0                       ANA                      CAN                 NO   \n",
       "\n",
       "   Round Auditor Inquiry Client Response Unnamed: 12 Unnamed: 13 Unnamed: 14  \\\n",
       "0    1.0              I5             NaN         NaN         NaN         NaN   \n",
       "\n",
       "  Unnamed: 15  \n",
       "0         NaN  "
      ]
     },
     "execution_count": 2,
     "metadata": {},
     "output_type": "execute_result"
    }
   ],
   "source": [
    "data = pd.read_csv('sample-data.csv', skiprows=[0])\n",
    "print(data.shape)\n",
    "data[:1]"
   ]
  },
  {
   "cell_type": "code",
   "execution_count": 3,
   "metadata": {},
   "outputs": [
    {
     "name": "stdout",
     "output_type": "stream",
     "text": [
      "(269, 2)\n"
     ]
    },
    {
     "data": {
      "text/html": [
       "<div>\n",
       "<style scoped>\n",
       "    .dataframe tbody tr th:only-of-type {\n",
       "        vertical-align: middle;\n",
       "    }\n",
       "\n",
       "    .dataframe tbody tr th {\n",
       "        vertical-align: top;\n",
       "    }\n",
       "\n",
       "    .dataframe thead th {\n",
       "        text-align: right;\n",
       "    }\n",
       "</style>\n",
       "<table border=\"1\" class=\"dataframe\">\n",
       "  <thead>\n",
       "    <tr style=\"text-align: right;\">\n",
       "      <th></th>\n",
       "      <th>Auditor Inquiry</th>\n",
       "      <th>Client Response</th>\n",
       "    </tr>\n",
       "  </thead>\n",
       "  <tbody>\n",
       "    <tr>\n",
       "      <th>13</th>\n",
       "      <td>I6</td>\n",
       "      <td>R6</td>\n",
       "    </tr>\n",
       "    <tr>\n",
       "      <th>16</th>\n",
       "      <td>I6</td>\n",
       "      <td>R12, R11</td>\n",
       "    </tr>\n",
       "    <tr>\n",
       "      <th>17</th>\n",
       "      <td>I6</td>\n",
       "      <td>R5</td>\n",
       "    </tr>\n",
       "  </tbody>\n",
       "</table>\n",
       "</div>"
      ],
      "text/plain": [
       "   Auditor Inquiry Client Response\n",
       "13              I6              R6\n",
       "16              I6        R12, R11\n",
       "17              I6              R5"
      ]
     },
     "execution_count": 3,
     "metadata": {},
     "output_type": "execute_result"
    }
   ],
   "source": [
    "data_1 = data[['Auditor Inquiry', 'Client Response']].dropna() # eliminate NaN in dataset\n",
    "print(data_1.shape)\n",
    "data_1[10:13]"
   ]
  },
  {
   "cell_type": "code",
   "execution_count": 4,
   "metadata": {},
   "outputs": [
    {
     "data": {
      "text/plain": [
       "I6    131\n",
       "I1     40\n",
       "I2     24\n",
       "I5     23\n",
       "I4     22\n",
       "I3     21\n",
       "I7      6\n",
       "Name: Auditor Inquiry, dtype: int64"
      ]
     },
     "execution_count": 4,
     "metadata": {},
     "output_type": "execute_result"
    }
   ],
   "source": [
    "data_1['Auditor Inquiry'].value_counts()[data_1['Auditor Inquiry'].value_counts() > 2]"
   ]
  },
  {
   "cell_type": "code",
   "execution_count": 5,
   "metadata": {},
   "outputs": [
    {
     "name": "stdout",
     "output_type": "stream",
     "text": [
      "133\n"
     ]
    },
    {
     "data": {
      "text/plain": [
       "R19            81\n",
       "R1              9\n",
       "R1P             8\n",
       "NO              7\n",
       "No response     6\n",
       "R7              4\n",
       "R11             4\n",
       "Name: Client Response, dtype: int64"
      ]
     },
     "execution_count": 5,
     "metadata": {},
     "output_type": "execute_result"
    }
   ],
   "source": [
    "print(len(data_1['Client Response'].unique()))\n",
    "data_1['Client Response'].value_counts()[data_1['Client Response'].value_counts() > 3]"
   ]
  },
  {
   "cell_type": "code",
   "execution_count": 6,
   "metadata": {},
   "outputs": [
    {
     "data": {
      "text/plain": [
       "(112, 2)"
      ]
     },
     "execution_count": 6,
     "metadata": {},
     "output_type": "execute_result"
    }
   ],
   "source": [
    "# top 7 inquiries and 6 responses\n",
    "data_2 = data_1[((data_1['Client Response'] == 'R19') | (data_1['Client Response'] == 'R1') | (data_1['Client Response'] == 'R1P') |\n",
    "               (data_1['Client Response'] == 'NO') | (data_1['Client Response'] == 'R11') | (data_1['Client Response'] == 'R7')) \n",
    "                & (data_1['Auditor Inquiry'] != 'I6, I6')  & (data_1['Auditor Inquiry'] != 'I3, I6')]\n",
    "data_2.shape"
   ]
  },
  {
   "cell_type": "code",
   "execution_count": 7,
   "metadata": {},
   "outputs": [
    {
     "data": {
      "text/html": [
       "<div>\n",
       "<style scoped>\n",
       "    .dataframe tbody tr th:only-of-type {\n",
       "        vertical-align: middle;\n",
       "    }\n",
       "\n",
       "    .dataframe tbody tr th {\n",
       "        vertical-align: top;\n",
       "    }\n",
       "\n",
       "    .dataframe thead th {\n",
       "        text-align: right;\n",
       "    }\n",
       "</style>\n",
       "<table border=\"1\" class=\"dataframe\">\n",
       "  <thead>\n",
       "    <tr style=\"text-align: right;\">\n",
       "      <th></th>\n",
       "      <th>Auditor Inquiry</th>\n",
       "      <th>Client Response</th>\n",
       "    </tr>\n",
       "  </thead>\n",
       "  <tbody>\n",
       "    <tr>\n",
       "      <th>2</th>\n",
       "      <td>I2</td>\n",
       "      <td>R7</td>\n",
       "    </tr>\n",
       "    <tr>\n",
       "      <th>3</th>\n",
       "      <td>I3</td>\n",
       "      <td>R19</td>\n",
       "    </tr>\n",
       "    <tr>\n",
       "      <th>5</th>\n",
       "      <td>I6</td>\n",
       "      <td>R19</td>\n",
       "    </tr>\n",
       "  </tbody>\n",
       "</table>\n",
       "</div>"
      ],
      "text/plain": [
       "  Auditor Inquiry Client Response\n",
       "2              I2              R7\n",
       "3              I3             R19\n",
       "5              I6             R19"
      ]
     },
     "execution_count": 7,
     "metadata": {},
     "output_type": "execute_result"
    }
   ],
   "source": [
    "data_2[:3]"
   ]
  },
  {
   "cell_type": "code",
   "execution_count": 8,
   "metadata": {},
   "outputs": [
    {
     "data": {
      "text/html": [
       "<div>\n",
       "<style scoped>\n",
       "    .dataframe tbody tr th:only-of-type {\n",
       "        vertical-align: middle;\n",
       "    }\n",
       "\n",
       "    .dataframe tbody tr th {\n",
       "        vertical-align: top;\n",
       "    }\n",
       "\n",
       "    .dataframe thead th {\n",
       "        text-align: right;\n",
       "    }\n",
       "</style>\n",
       "<table border=\"1\" class=\"dataframe\">\n",
       "  <thead>\n",
       "    <tr style=\"text-align: right;\">\n",
       "      <th></th>\n",
       "      <th>I1</th>\n",
       "      <th>I2</th>\n",
       "      <th>I3</th>\n",
       "      <th>I4</th>\n",
       "      <th>I5</th>\n",
       "      <th>I6</th>\n",
       "      <th>I7</th>\n",
       "      <th>NO</th>\n",
       "      <th>R1</th>\n",
       "      <th>R11</th>\n",
       "      <th>R19</th>\n",
       "      <th>R1P</th>\n",
       "      <th>R7</th>\n",
       "    </tr>\n",
       "  </thead>\n",
       "  <tbody>\n",
       "    <tr>\n",
       "      <th>2</th>\n",
       "      <td>0</td>\n",
       "      <td>1</td>\n",
       "      <td>0</td>\n",
       "      <td>0</td>\n",
       "      <td>0</td>\n",
       "      <td>0</td>\n",
       "      <td>0</td>\n",
       "      <td>0</td>\n",
       "      <td>0</td>\n",
       "      <td>0</td>\n",
       "      <td>0</td>\n",
       "      <td>0</td>\n",
       "      <td>1</td>\n",
       "    </tr>\n",
       "    <tr>\n",
       "      <th>3</th>\n",
       "      <td>0</td>\n",
       "      <td>0</td>\n",
       "      <td>1</td>\n",
       "      <td>0</td>\n",
       "      <td>0</td>\n",
       "      <td>0</td>\n",
       "      <td>0</td>\n",
       "      <td>0</td>\n",
       "      <td>0</td>\n",
       "      <td>0</td>\n",
       "      <td>1</td>\n",
       "      <td>0</td>\n",
       "      <td>0</td>\n",
       "    </tr>\n",
       "    <tr>\n",
       "      <th>5</th>\n",
       "      <td>0</td>\n",
       "      <td>0</td>\n",
       "      <td>0</td>\n",
       "      <td>0</td>\n",
       "      <td>0</td>\n",
       "      <td>1</td>\n",
       "      <td>0</td>\n",
       "      <td>0</td>\n",
       "      <td>0</td>\n",
       "      <td>0</td>\n",
       "      <td>1</td>\n",
       "      <td>0</td>\n",
       "      <td>0</td>\n",
       "    </tr>\n",
       "  </tbody>\n",
       "</table>\n",
       "</div>"
      ],
      "text/plain": [
       "   I1  I2  I3  I4  I5  I6  I7  NO  R1  R11  R19  R1P  R7\n",
       "2   0   1   0   0   0   0   0   0   0    0    0    0   1\n",
       "3   0   0   1   0   0   0   0   0   0    0    1    0   0\n",
       "5   0   0   0   0   0   1   0   0   0    0    1    0   0"
      ]
     },
     "execution_count": 8,
     "metadata": {},
     "output_type": "execute_result"
    }
   ],
   "source": [
    "Inquiry = pd.get_dummies(data_2['Auditor Inquiry'])\n",
    "Response = pd.get_dummies(data_2['Client Response'])\n",
    "data_3 = pd.concat([Inquiry, Response], axis = 1)\n",
    "data_3[:3]"
   ]
  },
  {
   "cell_type": "code",
   "execution_count": 9,
   "metadata": {},
   "outputs": [
    {
     "data": {
      "text/html": [
       "<div>\n",
       "<style scoped>\n",
       "    .dataframe tbody tr th:only-of-type {\n",
       "        vertical-align: middle;\n",
       "    }\n",
       "\n",
       "    .dataframe tbody tr th {\n",
       "        vertical-align: top;\n",
       "    }\n",
       "\n",
       "    .dataframe thead th {\n",
       "        text-align: right;\n",
       "    }\n",
       "</style>\n",
       "<table border=\"1\" class=\"dataframe\">\n",
       "  <thead>\n",
       "    <tr style=\"text-align: right;\">\n",
       "      <th></th>\n",
       "      <th>I1</th>\n",
       "      <th>I2</th>\n",
       "      <th>I3</th>\n",
       "      <th>I4</th>\n",
       "      <th>I5</th>\n",
       "      <th>I6</th>\n",
       "      <th>I7</th>\n",
       "      <th>Client Response</th>\n",
       "    </tr>\n",
       "  </thead>\n",
       "  <tbody>\n",
       "    <tr>\n",
       "      <th>2</th>\n",
       "      <td>0</td>\n",
       "      <td>1</td>\n",
       "      <td>0</td>\n",
       "      <td>0</td>\n",
       "      <td>0</td>\n",
       "      <td>0</td>\n",
       "      <td>0</td>\n",
       "      <td>R7</td>\n",
       "    </tr>\n",
       "    <tr>\n",
       "      <th>3</th>\n",
       "      <td>0</td>\n",
       "      <td>0</td>\n",
       "      <td>1</td>\n",
       "      <td>0</td>\n",
       "      <td>0</td>\n",
       "      <td>0</td>\n",
       "      <td>0</td>\n",
       "      <td>R19</td>\n",
       "    </tr>\n",
       "    <tr>\n",
       "      <th>5</th>\n",
       "      <td>0</td>\n",
       "      <td>0</td>\n",
       "      <td>0</td>\n",
       "      <td>0</td>\n",
       "      <td>0</td>\n",
       "      <td>1</td>\n",
       "      <td>0</td>\n",
       "      <td>R19</td>\n",
       "    </tr>\n",
       "  </tbody>\n",
       "</table>\n",
       "</div>"
      ],
      "text/plain": [
       "   I1  I2  I3  I4  I5  I6  I7 Client Response\n",
       "2   0   1   0   0   0   0   0              R7\n",
       "3   0   0   1   0   0   0   0             R19\n",
       "5   0   0   0   0   0   1   0             R19"
      ]
     },
     "execution_count": 9,
     "metadata": {},
     "output_type": "execute_result"
    }
   ],
   "source": [
    "# inquiry -> response\n",
    "data_4 = pd.concat([Inquiry, data_2['Client Response']], axis = 1)\n",
    "data_4[:3]"
   ]
  },
  {
   "cell_type": "code",
   "execution_count": 10,
   "metadata": {},
   "outputs": [
    {
     "data": {
      "text/html": [
       "<div>\n",
       "<style scoped>\n",
       "    .dataframe tbody tr th:only-of-type {\n",
       "        vertical-align: middle;\n",
       "    }\n",
       "\n",
       "    .dataframe tbody tr th {\n",
       "        vertical-align: top;\n",
       "    }\n",
       "\n",
       "    .dataframe thead th {\n",
       "        text-align: right;\n",
       "    }\n",
       "</style>\n",
       "<table border=\"1\" class=\"dataframe\">\n",
       "  <thead>\n",
       "    <tr style=\"text-align: right;\">\n",
       "      <th></th>\n",
       "      <th>NO</th>\n",
       "      <th>R1</th>\n",
       "      <th>R11</th>\n",
       "      <th>R19</th>\n",
       "      <th>R1P</th>\n",
       "      <th>R7</th>\n",
       "      <th>Auditor Inquiry</th>\n",
       "    </tr>\n",
       "  </thead>\n",
       "  <tbody>\n",
       "    <tr>\n",
       "      <th>2</th>\n",
       "      <td>0.0</td>\n",
       "      <td>0.0</td>\n",
       "      <td>0.0</td>\n",
       "      <td>0.0</td>\n",
       "      <td>0.0</td>\n",
       "      <td>1.0</td>\n",
       "      <td>I3</td>\n",
       "    </tr>\n",
       "    <tr>\n",
       "      <th>3</th>\n",
       "      <td>0.0</td>\n",
       "      <td>0.0</td>\n",
       "      <td>0.0</td>\n",
       "      <td>1.0</td>\n",
       "      <td>0.0</td>\n",
       "      <td>0.0</td>\n",
       "      <td>I6</td>\n",
       "    </tr>\n",
       "    <tr>\n",
       "      <th>5</th>\n",
       "      <td>0.0</td>\n",
       "      <td>0.0</td>\n",
       "      <td>0.0</td>\n",
       "      <td>1.0</td>\n",
       "      <td>0.0</td>\n",
       "      <td>0.0</td>\n",
       "      <td>I6</td>\n",
       "    </tr>\n",
       "  </tbody>\n",
       "</table>\n",
       "</div>"
      ],
      "text/plain": [
       "    NO   R1  R11  R19  R1P   R7 Auditor Inquiry\n",
       "2  0.0  0.0  0.0  0.0  0.0  1.0              I3\n",
       "3  0.0  0.0  0.0  1.0  0.0  0.0              I6\n",
       "5  0.0  0.0  0.0  1.0  0.0  0.0              I6"
      ]
     },
     "execution_count": 10,
     "metadata": {},
     "output_type": "execute_result"
    }
   ],
   "source": [
    "# response -> next inquiry\n",
    "data_5 = pd.concat([Response.iloc[:-1], data_2['Auditor Inquiry'].shift(-1)], axis = 1)[:-1]\n",
    "data_5[:3]"
   ]
  },
  {
   "cell_type": "code",
   "execution_count": 11,
   "metadata": {},
   "outputs": [
    {
     "name": "stdout",
     "output_type": "stream",
     "text": [
      "6\n",
      "[[-4.714 -1.5   -0.308 -1.254 -0.    -0.448 -0.732 -0.472]\n",
      " [-0.292 10.683 -1.211 -4.127 -0.    -1.641 -2.25  -1.746]\n",
      " [ 0.219 -4.048 -1.016  9.787 -0.    -1.309 -1.733 -1.462]\n",
      " [ 9.298  0.968  4.008  1.103  0.     5.27   7.189 -9.24 ]\n",
      " [-4.714 -1.5   -0.308 -1.254 -0.    -0.448 -0.732 -0.472]\n",
      " [ 0.204 -4.604 -1.164 -4.255 -0.    -1.423 -1.742 13.392]]\n",
      "[[  1.232  -4.331  -0.893  -1.899  -0.     12.405  -3.31   -0.739]\n",
      " [ -1.497  24.862  -4.515  -6.532  -0.     -0.289 -10.969  -4.054]\n",
      " [ -3.563 -11.169  -3.62   -3.938  -0.     -0.431  19.393  -3.797]\n",
      " [  3.305 -23.266 -15.926  22.197   0.    -10.866  14.292  16.875]\n",
      " [ -1.501  25.276  -4.617  -6.752  -0.     -0.285 -10.993  -4.131]\n",
      " [  2.025 -11.37   29.57   -3.075  -0.     -0.533  -8.413  -4.154]]\n",
      "[[ -2.113  -2.177  -3.588  -3.295  -3.46   20.419 -10.013  -0.   ]\n",
      " [  4.503  12.115  -2.996  -2.198  -3.076  -3.713   4.372  -0.   ]\n",
      " [  2.645  -1.101  -1.92   17.881  -2.018  -2.581  -7.617  -0.   ]\n",
      " [  5.317  -7.226  12.262  -9.928  12.587  -8.618   6.24    0.   ]\n",
      " [ -8.711  -0.32   -0.942  -0.509  -1.081  -1.666  -4.193  -0.   ]\n",
      " [ -1.641  -1.291  -2.815  -1.952  -2.952  -3.841  11.209  -0.   ]]\n"
     ]
    }
   ],
   "source": [
    "# inquiry -> response model, 3 hidden states\n",
    "SHMM = UnSupervisedIOHMM(num_states = 3, max_EM_iter=200, EM_tol=1e-6)\n",
    "SHMM.set_models(model_emissions = [DiscreteMNL(solver='lbfgs')],\n",
    "model_transition=CrossEntropyMNL(solver='lbfgs'),\n",
    "model_initial=CrossEntropyMNL(solver='lbfgs'))\n",
    "\n",
    "SHMM.set_inputs(covariates_initial = ['I1', 'I2', 'I3', 'I4', 'I5', 'I6', 'I7'], covariates_transition = ['I1', 'I2', 'I3', 'I4', 'I5', 'I6', 'I7'],\n",
    "covariates_emissions = [['I1', 'I2', 'I3', 'I4', 'I5', 'I6', 'I7']])\n",
    "\n",
    "SHMM.set_outputs([['Client Response']])\n",
    "SHMM.set_data([data_4])\n",
    "\n",
    "SHMM.train()\n",
    "\n",
    "#expected ouput itself\n",
    "\n",
    "print(len(SHMM.model_emissions[0][0].coef))\n",
    "\n",
    "print(np.round(SHMM.model_emissions[0][0].coef, 3))\n",
    "print(np.round(SHMM.model_emissions[1][0].coef, 3))\n",
    "print(np.round(SHMM.model_emissions[2][0].coef, 3))"
   ]
  },
  {
   "cell_type": "code",
   "execution_count": 12,
   "metadata": {},
   "outputs": [
    {
     "name": "stdout",
     "output_type": "stream",
     "text": [
      "7\n",
      "[[  3.589  15.196  -3.778  -7.833   8.455  -3.992  -4.459]\n",
      " [ -0.133  -1.594  -1.932  -2.892   9.697  -1.829  -1.583]\n",
      " [  3.69   -3.05   -3.369  10.879   5.889  -3.466  -3.193]\n",
      " [ -7.21   -0.701  -1.049  -1.146  -2.912  -0.809  -0.594]\n",
      " [  0.579  -1.695  -2.024  13.989  -6.043  -1.942  -1.707]\n",
      " [  6.695  -7.456  13.201 -11.852 -12.175  12.845  12.131]\n",
      " [ -7.21   -0.701  -1.049  -1.146  -2.912  -0.809  -0.594]]\n",
      "[[ 0.299 -1.751  7.692 -0.    -2.034 -1.609 -1.999]\n",
      " [-3.059 -0.411 -1.01  -0.    -0.745 -0.377 -0.517]\n",
      " [ 0.963 -2.201 -3.987  0.    -2.384 -2.003 11.539]\n",
      " [-3.059 -0.411 -1.01  -0.    -0.745 -0.377 -0.517]\n",
      " [ 3.072 -3.408  4.919 -0.    -3.773  9.076 -3.742]\n",
      " [ 4.843  8.593 -5.594 -0.    10.426 -4.334 -4.247]\n",
      " [-3.059 -0.411 -1.01  -0.    -0.745 -0.377 -0.517]]\n",
      "[[ 2.221 -3.665 -2.216 16.881 -2.534 -6.244 -0.   ]\n",
      " [ 1.083 -3.51  -2.037 -2.271 -1.499 10.399 -0.   ]\n",
      " [ 5.392 -5.32  13.705 -4.184 -4.899  6.09   0.   ]\n",
      " [-6.029 -3.55  -1.787 -1.935  6.299 -5.055 -0.   ]\n",
      " [-6.413 -3.836 -1.997 -2.164  7.088 -5.505 -0.   ]\n",
      " [ 2.443 22.886 -4.034 -4.514 -2.034 -9.862 -0.   ]\n",
      " [ 1.305 -3.004 -1.634 -1.812 -2.422 10.177 -0.   ]]\n"
     ]
    }
   ],
   "source": [
    "# response -> next inquiry model, 3 hidden states\n",
    "SHMM = UnSupervisedIOHMM(num_states = 3, max_EM_iter=200, EM_tol=1e-6)\n",
    "\n",
    "SHMM.set_models(model_emissions = [DiscreteMNL(solver='lbfgs')],\n",
    "model_transition=CrossEntropyMNL(solver='lbfgs'),\n",
    "model_initial=CrossEntropyMNL(solver='lbfgs'))\n",
    "\n",
    "SHMM.set_inputs(covariates_initial = ['NO', 'R1', 'R11', 'R19', 'R1P', 'R7'], covariates_transition = ['NO', 'R1', 'R11', 'R19', 'R1P', 'R7'],\n",
    "covariates_emissions = [['NO', 'R1', 'R11', 'R19', 'R1P', 'R7']])\n",
    "\n",
    "SHMM.set_outputs([['Auditor Inquiry']])\n",
    "SHMM.set_data([data_5])\n",
    "\n",
    "SHMM.train()\n",
    "\n",
    "#expected ouput itself\n",
    "\n",
    "print(len(SHMM.model_emissions[0][0].coef))\n",
    "\n",
    "print(np.round(SHMM.model_emissions[0][0].coef, 3))\n",
    "print(np.round(SHMM.model_emissions[1][0].coef, 3))\n",
    "print(np.round(SHMM.model_emissions[2][0].coef, 3))"
   ]
  }
 ],
 "metadata": {
  "kernelspec": {
   "display_name": "Python 3",
   "language": "python",
   "name": "python3"
  },
  "language_info": {
   "codemirror_mode": {
    "name": "ipython",
    "version": 3
   },
   "file_extension": ".py",
   "mimetype": "text/x-python",
   "name": "python",
   "nbconvert_exporter": "python",
   "pygments_lexer": "ipython3",
   "version": "3.6.4"
  }
 },
 "nbformat": 4,
 "nbformat_minor": 2
}
